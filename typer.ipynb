{
 "cells": [
  {
   "cell_type": "code",
   "execution_count": 13,
   "metadata": {},
   "outputs": [],
   "source": [
    "import re\n",
    "from collections import Counter\n",
    "\n",
    "# Read the input file into a string variable using the open() function.\n",
    "with open('input_file.txt', 'r') as file:\n",
    "    input_string = file.read()\n",
    "\n",
    "# Use the re.findall() function to tokenize the words in the input text.\n",
    "tokens = re.findall(r'\\b\\w+\\b', input_string)\n",
    "\n",
    "# Filter out short and common words using a list comprehension\n",
    "filtered_tokens = [word for word in tokens if len(word) > 2 and word not in {'a', 'an', 'the'}]\n",
    "\n",
    "# Count the frequency of each word\n",
    "word_counts = Counter(filtered_tokens)\n",
    "\n",
    "# Get the 100 most common words\n",
    "most_common_words = word_counts.most_common(100)\n",
    "\n",
    "# Repeat each word 100 times and write to output file\n",
    "with open('output_file.txt', 'w') as file:\n",
    "    for word, count in most_common_words:\n",
    "        file.write((word + ' ') * 100)"
   ]
  }
 ],
 "metadata": {
  "kernelspec": {
   "display_name": "Python 3",
   "language": "python",
   "name": "python3"
  },
  "language_info": {
   "codemirror_mode": {
    "name": "ipython",
    "version": 3
   },
   "file_extension": ".py",
   "mimetype": "text/x-python",
   "name": "python",
   "nbconvert_exporter": "python",
   "pygments_lexer": "ipython3",
   "version": "3.10.9"
  },
  "orig_nbformat": 4
 },
 "nbformat": 4,
 "nbformat_minor": 2
}
